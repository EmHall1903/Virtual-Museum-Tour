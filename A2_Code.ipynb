{
  "nbformat": 4,
  "nbformat_minor": 0,
  "metadata": {
    "colab": {
      "provenance": [],
      "authorship_tag": "ABX9TyOrLH/wHdCiayayM4od64Nj",
      "include_colab_link": true
    },
    "kernelspec": {
      "name": "python3",
      "display_name": "Python 3"
    },
    "language_info": {
      "name": "python"
    }
  },
  "cells": [
    {
      "cell_type": "markdown",
      "metadata": {
        "id": "view-in-github",
        "colab_type": "text"
      },
      "source": [
        "<a href=\"https://colab.research.google.com/github/EmHall1903/Virtual-Museum-Tour/blob/main/A2_Code.ipynb\" target=\"_parent\"><img src=\"https://colab.research.google.com/assets/colab-badge.svg\" alt=\"Open In Colab\"/></a>"
      ]
    },
    {
      "cell_type": "code",
      "source": [],
      "metadata": {
        "id": "G7A4oTgcBnyX"
      },
      "execution_count": null,
      "outputs": []
    },
    {
      "cell_type": "code",
      "source": [
        "print (\"Hi There! Welcome to the Virtual Museum Tour!\")\n",
        "print (\"Today you have two options, a Mondarian inspired artwork or the dazzling night sky\")\n",
        "answer = input(\"If you would like to see Mondarian please type A, if you would like to see Night Sky type B:    \")\n",
        "A = \"A\" and \"a\"\n",
        "B = \"B\" and \"b\"\n",
        "if (answer == A):\n",
        "  from PIL import Image\n",
        "  img = Image.open(\"ArtworkMondarian.jpg\")\n",
        "  display(img)\n",
        "\n",
        "if (answer == B):\n",
        "  from PIL import Image\n",
        "  img = Image.open(\"CelestialDrawing.jpg\")\n",
        "  display(img)\n",
        "\n",
        "print (\"Isn't it lovely!\")\n",
        "\n",
        "import time\n",
        "time.sleep(5)\n",
        "\n",
        "answer = input(\"Would you like to see another artwork?:   \")\n",
        "D = \"No\"\n",
        "C = \"Yes\"\n",
        "if (answer == C):\n",
        "  print(\"Amazing! Would you like to see a Mondarian inspired artwork or the dazzling night sky?\")\n",
        "  answer = input(\"If you would like to see Mondarian please type A, if you would like to see Night Sky type B:    \")\n",
        "\n",
        "  A = \"A\" and \"a\"\n",
        "  B = \"B\" and \"b\"\n",
        "\n",
        "  if (answer == A):\n",
        "    from PIL import Image\n",
        "    img = Image.open(\"ArtworkMondarian.jpg\")\n",
        "    display(img)\n",
        "\n",
        "  if (answer == B):\n",
        "    from PIL import Image\n",
        "    img = Image.open(\"CelestialDrawing.jpg\")\n",
        "    display(img)\n",
        "\n",
        "  if (answer == A or B):\n",
        "    time.sleep(5)\n",
        "    print(\"Thank you for coming to the Virtual Museum Tour\")\n",
        "\n",
        "else:\n",
        "  print(\"Thank you for coming to the Virtual Museum Tour\")"
      ],
      "metadata": {
        "colab": {
          "base_uri": "https://localhost:8080/"
        },
        "id": "J60ha5ks55nJ",
        "outputId": "2d7464fc-950c-45c2-fd75-8a91b3f6ddd2"
      },
      "execution_count": null,
      "outputs": [
        {
          "output_type": "stream",
          "name": "stdout",
          "text": [
            "Hi There! Welcome to the Virtual Museum Tour!\n",
            "Today you have two options, a Mondarian inspired artwork or the dazzling night sky\n",
            "If you would like to see Mondarian please type A, if you would like to see Night Sky type B:    A\n",
            "Isn't it lovely!\n"
          ]
        }
      ]
    }
  ]
}